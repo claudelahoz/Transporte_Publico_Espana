{
 "cells": [
  {
   "cell_type": "code",
   "execution_count": 1,
   "metadata": {},
   "outputs": [],
   "source": [
    "# Instakar librerias si no lo estan\n",
    "# !pip install mysql-connector-python python-dotenv"
   ]
  },
  {
   "cell_type": "code",
   "execution_count": 2,
   "metadata": {},
   "outputs": [],
   "source": [
    "# Importar librerias \n",
    "import pandas as pd\n",
    "# import mysql.connector\n",
    "# from mysql.connector import Error\n",
    "from datetime import datetime\n",
    "import os\n",
    "from dotenv import load_dotenv"
   ]
  },
  {
   "cell_type": "code",
   "execution_count": 3,
   "metadata": {},
   "outputs": [],
   "source": [
    "# Cargar el archivo utils.py\n",
    "%run ../scripts/utils.py"
   ]
  },
  {
   "cell_type": "code",
   "execution_count": 4,
   "metadata": {},
   "outputs": [
    {
     "data": {
      "text/plain": [
       "True"
      ]
     },
     "execution_count": 4,
     "metadata": {},
     "output_type": "execute_result"
    }
   ],
   "source": [
    "# Cargar variables de entorno\n",
    "load_dotenv()"
   ]
  },
  {
   "cell_type": "code",
   "execution_count": 5,
   "metadata": {},
   "outputs": [
    {
     "name": "stdout",
     "output_type": "stream",
     "text": [
      "Configuración cargada.\n"
     ]
    }
   ],
   "source": [
    "# Configuración de la base de datos\n",
    "db_config = {\n",
    "    'host': os.getenv('DB_HOST'),\n",
    "    'database': os.getenv('DB_NAME'),\n",
    "    'user': os.getenv('DB_USER'),\n",
    "    'password': os.getenv('DB_PASSWORD')\n",
    "}\n",
    "\n",
    "print(\"Configuración cargada.\")"
   ]
  },
  {
   "cell_type": "code",
   "execution_count": 8,
   "metadata": {},
   "outputs": [
    {
     "name": "stdout",
     "output_type": "stream",
     "text": [
      "Muestra de los datos cargados:\n"
     ]
    },
    {
     "data": {
      "text/html": [
       "<div>\n",
       "<style scoped>\n",
       "    .dataframe tbody tr th:only-of-type {\n",
       "        vertical-align: middle;\n",
       "    }\n",
       "\n",
       "    .dataframe tbody tr th {\n",
       "        vertical-align: top;\n",
       "    }\n",
       "\n",
       "    .dataframe thead th {\n",
       "        text-align: right;\n",
       "    }\n",
       "</style>\n",
       "<table border=\"1\" class=\"dataframe\">\n",
       "  <thead>\n",
       "    <tr style=\"text-align: right;\">\n",
       "      <th></th>\n",
       "      <th>ID_Viaje</th>\n",
       "      <th>Fecha</th>\n",
       "      <th>Ruta</th>\n",
       "      <th>Numero_Pasajeros</th>\n",
       "      <th>Duracion_Viaje_Minutos</th>\n",
       "      <th>Retraso_Minutos</th>\n",
       "      <th>Tipo_Transporte</th>\n",
       "      <th>Region</th>\n",
       "      <th>Dia_Semana</th>\n",
       "    </tr>\n",
       "  </thead>\n",
       "  <tbody>\n",
       "    <tr>\n",
       "      <th>0</th>\n",
       "      <td>1</td>\n",
       "      <td>2023-01-01 00:00:00</td>\n",
       "      <td>Barcelona - Bilbao</td>\n",
       "      <td>NaN</td>\n",
       "      <td>not_available</td>\n",
       "      <td>999</td>\n",
       "      <td>Tranvía</td>\n",
       "      <td>Sevilla</td>\n",
       "      <td>Sunday</td>\n",
       "    </tr>\n",
       "    <tr>\n",
       "      <th>1</th>\n",
       "      <td>2</td>\n",
       "      <td>2023-01-01 00:01:00</td>\n",
       "      <td>Malaga - Sevilla</td>\n",
       "      <td>99.0</td>\n",
       "      <td>192.0</td>\n",
       "      <td>58</td>\n",
       "      <td>Tren</td>\n",
       "      <td>Barcelona</td>\n",
       "      <td>Sunday</td>\n",
       "    </tr>\n",
       "    <tr>\n",
       "      <th>2</th>\n",
       "      <td>3</td>\n",
       "      <td>2023-01-01 00:02:00</td>\n",
       "      <td>Madrid - Zaragoza</td>\n",
       "      <td>10.0</td>\n",
       "      <td>94.0</td>\n",
       "      <td>119</td>\n",
       "      <td>Autobús</td>\n",
       "      <td>Madrid</td>\n",
       "      <td>Sunday</td>\n",
       "    </tr>\n",
       "    <tr>\n",
       "      <th>3</th>\n",
       "      <td>4</td>\n",
       "      <td>2023-01-01 00:03:00</td>\n",
       "      <td>Sevilla - Madrid</td>\n",
       "      <td>96.0</td>\n",
       "      <td>650.0</td>\n",
       "      <td>2</td>\n",
       "      <td>Metro</td>\n",
       "      <td>Malaga</td>\n",
       "      <td>Sunday</td>\n",
       "    </tr>\n",
       "    <tr>\n",
       "      <th>4</th>\n",
       "      <td>5</td>\n",
       "      <td>2023-01-01 00:04:00</td>\n",
       "      <td>Madrid - Malaga</td>\n",
       "      <td>22.0</td>\n",
       "      <td>335.0</td>\n",
       "      <td>51</td>\n",
       "      <td>Autobús</td>\n",
       "      <td>Sevilla</td>\n",
       "      <td>Sunday</td>\n",
       "    </tr>\n",
       "  </tbody>\n",
       "</table>\n",
       "</div>"
      ],
      "text/plain": [
       "   ID_Viaje                Fecha                Ruta  Numero_Pasajeros  \\\n",
       "0         1  2023-01-01 00:00:00  Barcelona - Bilbao               NaN   \n",
       "1         2  2023-01-01 00:01:00    Malaga - Sevilla              99.0   \n",
       "2         3  2023-01-01 00:02:00   Madrid - Zaragoza              10.0   \n",
       "3         4  2023-01-01 00:03:00    Sevilla - Madrid              96.0   \n",
       "4         5  2023-01-01 00:04:00     Madrid - Malaga              22.0   \n",
       "\n",
       "  Duracion_Viaje_Minutos  Retraso_Minutos Tipo_Transporte     Region  \\\n",
       "0          not_available              999         Tranvía    Sevilla   \n",
       "1                  192.0               58            Tren  Barcelona   \n",
       "2                   94.0              119         Autobús     Madrid   \n",
       "3                  650.0                2           Metro     Malaga   \n",
       "4                  335.0               51         Autobús    Sevilla   \n",
       "\n",
       "  Dia_Semana  \n",
       "0     Sunday  \n",
       "1     Sunday  \n",
       "2     Sunday  \n",
       "3     Sunday  \n",
       "4     Sunday  "
      ]
     },
     "metadata": {},
     "output_type": "display_data"
    }
   ],
   "source": [
    "# Cargar los datos desde el CSV\n",
    "file_path = f'C:/Users/delahozce/OneDrive - GLOBAL HITSS/Documentos/Proyectos/Codes/Test_adalab/EDA -Transporte_Publico_en_España/'\n",
    "df = pd.read_csv(file_path + 'data/Transporte_Publico_Espana.csv')\n",
    "\n",
    "print(\"Muestra de los datos cargados:\")\n",
    "display(df.head())"
   ]
  },
  {
   "cell_type": "code",
   "execution_count": 11,
   "metadata": {},
   "outputs": [
    {
     "name": "stdout",
     "output_type": "stream",
     "text": [
      "Datos preparados. Total de filas: 100100\n"
     ]
    }
   ],
   "source": [
    "# Preparar los datos para la inserción\n",
    "data = []\n",
    "for _, row in df.iterrows():\n",
    "    data.append((\n",
    "        row['ID_Viaje'],\n",
    "        convert_date(row['Fecha']),\n",
    "        row['Ruta'],\n",
    "        row['Numero_Pasajeros'] if pd.notna(row['Numero_Pasajeros']) else None,\n",
    "        row['Duracion_Viaje_Minutos'] if pd.notna(row['Duracion_Viaje_Minutos']) else None,\n",
    "        row['Retraso_Minutos'] if pd.notna(row['Retraso_Minutos']) else None,\n",
    "        row['Tipo_Transporte'],\n",
    "        row['Region'],\n",
    "        row['Dia_Semana']\n",
    "    ))\n",
    "\n",
    "print(f\"Datos preparados. Total de filas: {len(data)}\")"
   ]
  },
  {
   "cell_type": "code",
   "execution_count": 17,
   "metadata": {},
   "outputs": [
    {
     "name": "stdout",
     "output_type": "stream",
     "text": [
      "Datos insertados con éxito en la base de datos.\n"
     ]
    }
   ],
   "source": [
    "# Conexión y ejecución\n",
    "conn = create_connection()\n",
    "if conn is not None:\n",
    "    try:\n",
    "        cursor = conn.cursor()\n",
    "        create_table(cursor)\n",
    "        insert_data(cursor, data)\n",
    "        conn.commit()\n",
    "        print(\"Datos insertados con éxito en la base de datos.\")\n",
    "    except Error as e:\n",
    "        print(f\"Error: {e}\")\n"
   ]
  }
 ],
 "metadata": {
  "kernelspec": {
   "display_name": "pyspark_env2",
   "language": "python",
   "name": "python3"
  },
  "language_info": {
   "codemirror_mode": {
    "name": "ipython",
    "version": 3
   },
   "file_extension": ".py",
   "mimetype": "text/x-python",
   "name": "python",
   "nbconvert_exporter": "python",
   "pygments_lexer": "ipython3",
   "version": "3.11.9"
  }
 },
 "nbformat": 4,
 "nbformat_minor": 2
}
